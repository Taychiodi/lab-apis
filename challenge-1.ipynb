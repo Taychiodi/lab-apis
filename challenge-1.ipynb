{
 "cells": [
  {
   "cell_type": "markdown",
   "id": "e9e71538",
   "metadata": {},
   "source": [
    "# Setup"
   ]
  },
  {
   "cell_type": "markdown",
   "id": "7eac3132",
   "metadata": {},
   "source": [
    "# 1. Sign up as a developer in 4square Places API"
   ]
  },
  {
   "cell_type": "markdown",
   "id": "3f8045b2",
   "metadata": {},
   "source": [
    "[Docs](https://foursquare.com/developers/home)"
   ]
  },
  {
   "cell_type": "markdown",
   "id": "4cb5ca78",
   "metadata": {},
   "source": [
    "# 2. Create a project"
   ]
  },
  {
   "cell_type": "code",
   "execution_count": null,
   "id": "c86677ec",
   "metadata": {},
   "outputs": [],
   "source": [
    "# no code needed"
   ]
  },
  {
   "cell_type": "markdown",
   "id": "bdf43ce0",
   "metadata": {},
   "source": [
    "# 3. Get the token from the project"
   ]
  },
  {
   "cell_type": "code",
   "execution_count": null,
   "id": "f578f4fa",
   "metadata": {},
   "outputs": [],
   "source": [
    "# no code needed"
   ]
  },
  {
   "cell_type": "markdown",
   "id": "df341f75",
   "metadata": {},
   "source": [
    "# 4. Hide the token using getpass library "
   ]
  },
  {
   "cell_type": "code",
   "execution_count": 2,
   "id": "7d086427",
   "metadata": {},
   "outputs": [
    {
     "name": "stdin",
     "output_type": "stream",
     "text": [
      "API pass:  ········\n"
     ]
    }
   ],
   "source": [
    "# no code needed\n",
    "import getpass\n",
    "\n",
    "api_key = getpass.getpass(\"API pass: \")\n",
    "\n",
    "#fsq3mmqnWrxPCkt2PrLmMrXRKfiwHE1K0xxbW44gwHYw104="
   ]
  },
  {
   "cell_type": "markdown",
   "id": "df041b10",
   "metadata": {},
   "source": [
    "For projects, you'll use `.env`"
   ]
  },
  {
   "cell_type": "markdown",
   "id": "60a54335",
   "metadata": {},
   "source": [
    "⚠️ DO NOT push your token"
   ]
  }
 ],
 "metadata": {
  "kernelspec": {
   "display_name": "Python 3 (ipykernel)",
   "language": "python",
   "name": "python3"
  },
  "language_info": {
   "codemirror_mode": {
    "name": "ipython",
    "version": 3
   },
   "file_extension": ".py",
   "mimetype": "text/x-python",
   "name": "python",
   "nbconvert_exporter": "python",
   "pygments_lexer": "ipython3",
   "version": "3.13.3"
  },
  "toc": {
   "base_numbering": 1,
   "nav_menu": {},
   "number_sections": true,
   "sideBar": true,
   "skip_h1_title": false,
   "title_cell": "Table of Contents",
   "title_sidebar": "Contents",
   "toc_cell": false,
   "toc_position": {},
   "toc_section_display": true,
   "toc_window_display": true
  }
 },
 "nbformat": 4,
 "nbformat_minor": 5
}
